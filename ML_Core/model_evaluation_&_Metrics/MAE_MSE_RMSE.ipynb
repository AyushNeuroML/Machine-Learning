{
 "cells": [
  {
   "cell_type": "code",
   "execution_count": 2,
   "id": "50c43db5",
   "metadata": {},
   "outputs": [
    {
     "name": "stdout",
     "output_type": "stream",
     "text": [
      "MAE :  7.5\n",
      "MSE :  62.5\n",
      "RMSE :  7.905694150420948\n"
     ]
    }
   ],
   "source": [
    "from sklearn.metrics import mean_absolute_error , mean_squared_error , root_mean_squared_error\n",
    "import numpy as np\n",
    "\n",
    "# real scores\n",
    "real = [90,60,80,100]\n",
    "\n",
    "# model predicted scores\n",
    "\n",
    "mod = [85,70,70,95]\n",
    "\n",
    "mae = mean_absolute_error(real,mod)\n",
    "\n",
    "mse = mean_squared_error(real,mod)\n",
    "\n",
    "rmse = np.sqrt(mse)\n",
    "\n",
    "print(\"MAE : \", mae)\n",
    "print(\"MSE : \", mse)\n",
    "print(\"RMSE : \", rmse)"
   ]
  },
  {
   "cell_type": "code",
   "execution_count": null,
   "id": "e6f9e927",
   "metadata": {},
   "outputs": [],
   "source": [
    "# use MAE to find simple mistakes\n",
    "# use MSE to find big mistakes in big plot\n",
    "#use RMSE to understand the errors in real unit but still we are playing with big numbers in it"
   ]
  }
 ],
 "metadata": {
  "kernelspec": {
   "display_name": "Python 3",
   "language": "python",
   "name": "python3"
  },
  "language_info": {
   "codemirror_mode": {
    "name": "ipython",
    "version": 3
   },
   "file_extension": ".py",
   "mimetype": "text/x-python",
   "name": "python",
   "nbconvert_exporter": "python",
   "pygments_lexer": "ipython3",
   "version": "3.12.3"
  }
 },
 "nbformat": 4,
 "nbformat_minor": 5
}
