{
 "cells": [
  {
   "cell_type": "markdown",
   "id": "a1b7d370",
   "metadata": {},
   "source": [
    "# TP --> True positive (machine said you'll pass and you actually passed)\n",
    "# TN --> True negative (machine said you'll fail and you actually failed)\n",
    "# FP --> False positive (machine said you will pass but you failed)\n",
    "# FN --> False negative (machine said you'll fail but you passed)"
   ]
  },
  {
   "cell_type": "code",
   "execution_count": null,
   "id": "79a8a43b",
   "metadata": {},
   "outputs": [
    {
     "name": "stdout",
     "output_type": "stream",
     "text": [
      "Confusion matrix\n",
      "[[4 1]\n",
      " [1 4]]\n"
     ]
    }
   ],
   "source": [
    "from sklearn.metrics import confusion_matrix\n",
    "\n",
    "y_true = [1,0,1,1,0,1,0,0,1,0]\n",
    "y_pred = [1,0,1,0,0,1,1,0,1,0]\n",
    "\n",
    "cm = confusion_matrix(y_true,y_pred)\n",
    "\n",
    "print(\"Confusion matrix\")\n",
    "print(cm)\n",
    "\n"
   ]
  },
  {
   "cell_type": "code",
   "execution_count": null,
   "id": "79d03539",
   "metadata": {},
   "outputs": [],
   "source": []
  }
 ],
 "metadata": {
  "kernelspec": {
   "display_name": "Python 3",
   "language": "python",
   "name": "python3"
  },
  "language_info": {
   "codemirror_mode": {
    "name": "ipython",
    "version": 3
   },
   "file_extension": ".py",
   "mimetype": "text/x-python",
   "name": "python",
   "nbconvert_exporter": "python",
   "pygments_lexer": "ipython3",
   "version": "3.12.3"
  }
 },
 "nbformat": 4,
 "nbformat_minor": 5
}
