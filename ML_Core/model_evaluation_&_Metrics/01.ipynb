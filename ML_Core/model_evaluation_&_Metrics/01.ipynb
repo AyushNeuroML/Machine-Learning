{
 "cells": [
  {
   "cell_type": "code",
   "execution_count": 1,
   "id": "c1834109",
   "metadata": {},
   "outputs": [
    {
     "name": "stdout",
     "output_type": "stream",
     "text": [
      "Accuracy : 0.7142857142857143\n",
      "Precision 0.75\n",
      "Recall : 0.75\n",
      "F1 score : ([1, 0, 1, 1, 0, 1, 0], [1, 0, 1, 0, 0, 1, 1])\n"
     ]
    }
   ],
   "source": [
    "from sklearn.metrics import accuracy_score,precision_score,recall_score,f1_score\n",
    "\n",
    "# True answers[what actually happened]\n",
    "\n",
    "y_true = [1,0,1,1,0,1,0]\n",
    "\n",
    "# model's prediction (what it guessed)\n",
    "y_pred = [1,0,1,0,0,1,1]\n",
    "\n",
    "print(f\"Accuracy : {accuracy_score(y_true,y_pred)}\")\n",
    "print(f\"Precision {precision_score(y_true,y_pred)}\")\n",
    "print(f\"Recall : {recall_score(y_true,y_pred)}\")\n",
    "print(f\"F1 score : {y_true,y_pred}\")"
   ]
  },
  {
   "cell_type": "markdown",
   "id": "d98ead64",
   "metadata": {},
   "source": [
    "# pro tips\n",
    "# --> solo accuracy is not enough when data is unbalanced"
   ]
  }
 ],
 "metadata": {
  "kernelspec": {
   "display_name": "Python 3",
   "language": "python",
   "name": "python3"
  },
  "language_info": {
   "codemirror_mode": {
    "name": "ipython",
    "version": 3
   },
   "file_extension": ".py",
   "mimetype": "text/x-python",
   "name": "python",
   "nbconvert_exporter": "python",
   "pygments_lexer": "ipython3",
   "version": "3.12.3"
  }
 },
 "nbformat": 4,
 "nbformat_minor": 5
}
