{
 "cells": [
  {
   "cell_type": "code",
   "execution_count": 54,
   "id": "58c1a430",
   "metadata": {},
   "outputs": [
    {
     "name": "stdout",
     "output_type": "stream",
     "text": [
      "Predictions: [1 1]\n",
      "Predicted labels: ['P' 'P']\n",
      "Actual labels: ['P' 'F']\n",
      "Accuracy: 0.50\n"
     ]
    }
   ],
   "source": [
    "import pandas as pd\n",
    "from sklearn.linear_model import LogisticRegression\n",
    "from sklearn.preprocessing import StandardScaler\n",
    "from sklearn.preprocessing import LabelEncoder\n",
    "from sklearn.model_selection import train_test_split\n",
    "import numpy as np\n",
    "\n",
    "le = LabelEncoder()\n",
    "\n",
    "scaler = StandardScaler()\n",
    "model = LogisticRegression()\n",
    "\n",
    "data = {\n",
    "    'Studyhours' : [1,2,3,4,5,6],\n",
    "    'Pass_Fail' : ['F','F','P','P','P','P']\n",
    "}\n",
    "\n",
    "df = pd.DataFrame(data)\n",
    "\n",
    "\n",
    "df['Pass_Fail'] = le.fit_transform(df['Pass_Fail'])\n",
    "\n",
    "X = df[['Studyhours']] # Feature matrix (DataFrame)\n",
    "y = df['Pass_Fail'] \n",
    "np.array(X,y)   # Target vector (Series)\n",
    "\n",
    "X_scaled = scaler.fit_transform(X)\n",
    "\n",
    "\n",
    "\n",
    "\n",
    "X_train , X_test , y_train , y_test = train_test_split(X_scaled,y,test_size=0.33,random_state=42,stratify=y)\n",
    "\n",
    "\n",
    "\n",
    "model.fit(X_train,y_train)\n",
    "\n",
    "\n",
    "\n",
    "# Make predictions\n",
    "y_pred = model.predict(X_test)\n",
    "print(\"Predictions:\", y_pred)\n",
    "\n",
    "# Convert back to original labels for better understanding\n",
    "y_pred_labels = le.inverse_transform(y_pred)\n",
    "y_test_labels = le.inverse_transform(y_test)\n",
    "\n",
    "print(\"Predicted labels:\", y_pred_labels)\n",
    "print(\"Actual labels:\", y_test_labels)\n",
    "\n",
    "# Model accuracy\n",
    "accuracy = model.score(X_test, y_test)\n",
    "print(f\"Accuracy: {accuracy:.2f}\")\n",
    "\n"
   ]
  },
  {
   "cell_type": "code",
   "execution_count": 19,
   "id": "4c9a0068",
   "metadata": {},
   "outputs": [
    {
     "name": "stdout",
     "output_type": "stream",
     "text": [
      "   Studyhours  Pass_Fail\n",
      "0           1          0\n",
      "1           2          0\n",
      "2           3          1\n",
      "3           4          1\n",
      "4           5          1\n",
      "5           6          1\n"
     ]
    }
   ],
   "source": [
    "print(pd.DataFrame(df,columns=['Studyhours','Pass_Fail']))"
   ]
  },
  {
   "cell_type": "code",
   "execution_count": 21,
   "id": "d753d207",
   "metadata": {},
   "outputs": [
    {
     "name": "stdout",
     "output_type": "stream",
     "text": [
      "   Studyhours  Pass_Fail\n",
      "0           1          0\n",
      "1           2          0\n",
      "2           3          1\n",
      "3           4          1\n",
      "4           5          1\n",
      "5           6          1\n"
     ]
    }
   ],
   "source": [
    "print(pd.DataFrame(df))"
   ]
  },
  {
   "cell_type": "code",
   "execution_count": null,
   "id": "0a789def",
   "metadata": {},
   "outputs": [
    {
     "name": "stdout",
     "output_type": "stream",
     "text": [
      "[1 1]\n"
     ]
    }
   ],
   "source": [
    "# hrs = float(input(\"ENter hours you studied : \"))\n"
   ]
  },
  {
   "cell_type": "code",
   "execution_count": null,
   "id": "33f96f24",
   "metadata": {},
   "outputs": [],
   "source": []
  }
 ],
 "metadata": {
  "kernelspec": {
   "display_name": "Python 3",
   "language": "python",
   "name": "python3"
  },
  "language_info": {
   "codemirror_mode": {
    "name": "ipython",
    "version": 3
   },
   "file_extension": ".py",
   "mimetype": "text/x-python",
   "name": "python",
   "nbconvert_exporter": "python",
   "pygments_lexer": "ipython3",
   "version": "3.12.3"
  }
 },
 "nbformat": 4,
 "nbformat_minor": 5
}
