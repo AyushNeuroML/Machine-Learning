{
 "cells": [
  {
   "cell_type": "code",
   "execution_count": null,
   "id": "03322c4b",
   "metadata": {},
   "outputs": [
    {
     "name": "stdout",
     "output_type": "stream",
     "text": [
      "The fruit is apple\n"
     ]
    }
   ],
   "source": [
    "from sklearn.tree import DecisionTreeClassifier\n",
    "\n",
    "X = [\n",
    "    [7,2],\n",
    "    [8,3],\n",
    "    [9,8],\n",
    "    [10,9]\n",
    "]\n",
    "\n",
    "y = [0,0,1,1] #0 means apple and 1 means orange\n",
    "\n",
    "model = DecisionTreeClassifier()\n",
    "\n",
    "model.fit(X,y)\n",
    "\n",
    "size = float(input(\"Enter the fruit size : \"))\n",
    "shade = float(input(\"Enter the fruit shade : \"))\n",
    "result = model.predict([[size,shade]])[0]\n",
    "\n",
    "if result == 0:\n",
    "    print(\"The fruit is likely an apple\")\n",
    "else:\n",
    "    print(\"The fruit is likely an orange\")"
   ]
  },
  {
   "cell_type": "code",
   "execution_count": null,
   "id": "3db0b847",
   "metadata": {},
   "outputs": [],
   "source": []
  }
 ],
 "metadata": {
  "kernelspec": {
   "display_name": "Python 3",
   "language": "python",
   "name": "python3"
  },
  "language_info": {
   "codemirror_mode": {
    "name": "ipython",
    "version": 3
   },
   "file_extension": ".py",
   "mimetype": "text/x-python",
   "name": "python",
   "nbconvert_exporter": "python",
   "pygments_lexer": "ipython3",
   "version": "3.12.3"
  }
 },
 "nbformat": 4,
 "nbformat_minor": 5
}
