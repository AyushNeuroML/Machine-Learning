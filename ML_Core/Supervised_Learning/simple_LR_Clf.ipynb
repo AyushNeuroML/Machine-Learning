{
 "cells": [
  {
   "cell_type": "code",
   "execution_count": 7,
   "id": "7254d88e",
   "metadata": {},
   "outputs": [
    {
     "name": "stdout",
     "output_type": "stream",
     "text": [
      "Chalo pass hogaye aap\n"
     ]
    }
   ],
   "source": [
    "import pandas as pd\n",
    "from sklearn.linear_model import LogisticRegression\n",
    "from sklearn.preprocessing import StandardScaler\n",
    "from sklearn.preprocessing import LabelEncoder\n",
    "from sklearn.model_selection import train_test_split\n",
    "\n",
    "le = LabelEncoder()\n",
    "\n",
    "scaler = StandardScaler()\n",
    "model = LogisticRegression()\n",
    "\n",
    "# data = {\n",
    "#     'Studyhours' : [[1],[2],[3],[4],[5]],\n",
    "#     'Pass_Fail' : [0,0,1,1,1]\n",
    "# }\n",
    "\n",
    "# pd.DataFrame(data)\n",
    "\n",
    "X = [[1],[2],[3],[4],[5]]\n",
    "y = [0,0,1,1,1]\n",
    "\n",
    "model.fit(X,y)\n",
    "\n",
    "hrs = float(input(\"Enter hours you studied : \"))\n",
    "\n",
    "result =model.predict([[hrs]])[0]\n",
    "\n",
    "if result == 0 :\n",
    "    print(\"agli bar muh dikhana\")\n",
    "else :\n",
    "    print(\"Chalo pass hogaye aap\")"
   ]
  },
  {
   "cell_type": "code",
   "execution_count": null,
   "id": "5cda327e",
   "metadata": {},
   "outputs": [],
   "source": []
  }
 ],
 "metadata": {
  "kernelspec": {
   "display_name": "Python 3",
   "language": "python",
   "name": "python3"
  },
  "language_info": {
   "codemirror_mode": {
    "name": "ipython",
    "version": 3
   },
   "file_extension": ".py",
   "mimetype": "text/x-python",
   "name": "python",
   "nbconvert_exporter": "python",
   "pygments_lexer": "ipython3",
   "version": "3.12.3"
  }
 },
 "nbformat": 4,
 "nbformat_minor": 5
}
