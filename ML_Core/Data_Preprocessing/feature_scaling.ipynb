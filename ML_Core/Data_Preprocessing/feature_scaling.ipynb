{
 "cells": [
  {
   "cell_type": "code",
   "execution_count": null,
   "id": "fc492350",
   "metadata": {},
   "outputs": [],
   "source": [
    "# from sklearn.preprocessing import StandardScaler , MinMaxScaler\n",
    "\n",
    "# scaler = StandardScaler()\n",
    "# x_scaled = scaler.fit_transform()\n",
    "\n",
    "# scaler = MinMaxScaler()\n",
    "# x_scaled = scaler.fit_transform()"
   ]
  },
  {
   "cell_type": "code",
   "execution_count": 4,
   "id": "d5e4f532",
   "metadata": {},
   "outputs": [
    {
     "name": "stdout",
     "output_type": "stream",
     "text": [
      "   Study_Hours  TestScore\n",
      "0    -1.414214  -1.414214\n",
      "1    -0.707107  -0.707107\n",
      "2     0.000000   0.000000\n",
      "3     0.707107   0.707107\n",
      "4     1.414214   1.414214\n",
      "   Study_Hours  TestScore\n",
      "0         0.00       0.00\n",
      "1         0.25       0.25\n",
      "2         0.50       0.50\n",
      "3         0.75       0.75\n",
      "4         1.00       1.00\n"
     ]
    }
   ],
   "source": [
    "import pandas as pd\n",
    "\n",
    "from sklearn.preprocessing import StandardScaler , MinMaxScaler\n",
    "from sklearn.model_selection import train_test_split\n",
    "\n",
    "data = {\n",
    "    'Study_Hours' : [1,2,3,4,5],\n",
    "    'TestScore' : [40,50,60,70,80]\n",
    "}\n",
    "\n",
    "df = pd.DataFrame(data)\n",
    "\n",
    "# Standard Scaler\n",
    "\n",
    "Standard_Scaler = StandardScaler()\n",
    "Standard_Scaled = Standard_Scaler.fit_transform(df)\n",
    "\n",
    "print(pd.DataFrame(Standard_Scaled, columns=['Study_Hours','TestScore']))\n",
    "\n",
    "min_max = MinMaxScaler()\n",
    "min_max_scaled = min_max.fit_transform(df)\n",
    "print(pd.DataFrame(min_max_scaled, columns= ['Study_Hours','TestScore']))\n",
    "\n"
   ]
  },
  {
   "cell_type": "code",
   "execution_count": null,
   "id": "64d31a97",
   "metadata": {},
   "outputs": [
    {
     "name": "stdout",
     "output_type": "stream",
     "text": [
      "Training data\n",
      "   Study_Hours\n",
      "4            5\n",
      "2            3\n",
      "0            1\n",
      "3            4\n",
      "\n",
      "\n",
      "testing Data\n",
      "\n",
      "   Study_Hours\n",
      "1            2\n"
     ]
    }
   ],
   "source": [
    "# train , test , split\n",
    "\n",
    "X = df[['Study_Hours']]\n",
    "y = df[['TestScore']]\n",
    "\n",
    "X_train,X_test,y_train,y_test = train_test_split(X,y,test_size=0.2,random_state=42)\n",
    "\n",
    "print(\"Training data\")\n",
    "print(X_train)\n",
    "\n",
    "print(\"\\ntesting Data\\n\")\n",
    "print(X_test)\n",
    "\n"
   ]
  },
  {
   "cell_type": "code",
   "execution_count": null,
   "id": "8e6f3365",
   "metadata": {},
   "outputs": [],
   "source": []
  },
  {
   "cell_type": "code",
   "execution_count": null,
   "id": "bbf94ded",
   "metadata": {},
   "outputs": [],
   "source": []
  }
 ],
 "metadata": {
  "kernelspec": {
   "display_name": "Python 3",
   "language": "python",
   "name": "python3"
  },
  "language_info": {
   "codemirror_mode": {
    "name": "ipython",
    "version": 3
   },
   "file_extension": ".py",
   "mimetype": "text/x-python",
   "name": "python",
   "nbconvert_exporter": "python",
   "pygments_lexer": "ipython3",
   "version": "3.12.3"
  }
 },
 "nbformat": 4,
 "nbformat_minor": 5
}
