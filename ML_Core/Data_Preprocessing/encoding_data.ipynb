{
 "cells": [
  {
   "cell_type": "code",
   "execution_count": 13,
   "id": "c29c825b",
   "metadata": {},
   "outputs": [
    {
     "name": "stdout",
     "output_type": "stream",
     "text": [
      "     Name  Gender       City Passed\n",
      "0    Aman    Male      Delhi    Yes\n",
      "1   Priya  Female     Mumbai    Yes\n",
      "2   Rahul    Male  Bangalore     No\n",
      "3  Anjali  Female     Mumbai    Yes\n",
      "4    Ravi    Male      Delhi    Yes\n"
     ]
    }
   ],
   "source": [
    "from sklearn.preprocessing import LabelEncoder\n",
    "import pandas as pd\n",
    "\n",
    "df = pd.read_csv(\"sample_data.csv\")\n",
    "\n",
    "print(df.head())\n",
    "\n",
    "\n",
    "\n"
   ]
  },
  {
   "cell_type": "code",
   "execution_count": 18,
   "id": "73c727d2",
   "metadata": {},
   "outputs": [
    {
     "name": "stdout",
     "output_type": "stream",
     "text": [
      "      Name  Gender  Gender_Encoded Passed  Passed_Encoded\n",
      "0     Aman    Male               1    Yes               1\n",
      "1    Priya  Female               0    Yes               1\n",
      "2    Rahul    Male               1     No               0\n",
      "3   Anjali  Female               0    Yes               1\n",
      "4     Ravi    Male               1    Yes               1\n",
      "5    Meera  Female               0     No               0\n",
      "6    Arjun    Male               1    Yes               1\n",
      "7     Neha  Female               0    Yes               1\n",
      "8    Imran    Male               1     No               0\n",
      "9    Sneha  Female               0    Yes               1\n",
      "10     Raj    Male               1    Yes               1\n",
      "11   Divya  Female               0     No               0\n",
      "12   Kabir    Male               1    Yes               1\n",
      "13  Simran  Female               0    Yes               1\n",
      "14   Karan    Male               1     No               0\n",
      "15   Pooja  Female               0    Yes               1\n",
      "16  Rakesh    Male               1    Yes               1\n",
      "17    Isha  Female               0     No               0\n",
      "18   Rohit    Male               1    Yes               1\n",
      "19   Deepa  Female               0    Yes               1\n"
     ]
    }
   ],
   "source": [
    "# label encoding\n",
    "\n",
    "df_label = df.copy()\n",
    "\n",
    "le = LabelEncoder()\n",
    "df_label['Gender_Encoded'] = le.fit_transform(df_label['Gender'])\n",
    "df_label['Passed_Encoded'] = le.fit_transform(df_label['Passed'])\n",
    "\n",
    "print(df_label[['Name','Gender','Gender_Encoded','Passed','Passed_Encoded']])\n",
    "\n"
   ]
  },
  {
   "cell_type": "code",
   "execution_count": 33,
   "id": "600c9717",
   "metadata": {},
   "outputs": [
    {
     "name": "stdout",
     "output_type": "stream",
     "text": [
      "      Name  Gender Passed  Gender_Encoded  Passed_Encoded  City_Bangalore  \\\n",
      "0     Aman    Male    Yes               1               1           False   \n",
      "1    Priya  Female    Yes               0               1           False   \n",
      "2    Rahul    Male     No               1               0            True   \n",
      "3   Anjali  Female    Yes               0               1           False   \n",
      "4     Ravi    Male    Yes               1               1           False   \n",
      "5    Meera  Female     No               0               0           False   \n",
      "6    Arjun    Male    Yes               1               1            True   \n",
      "7     Neha  Female    Yes               0               1           False   \n",
      "8    Imran    Male     No               1               0           False   \n",
      "9    Sneha  Female    Yes               0               1           False   \n",
      "10     Raj    Male    Yes               1               1           False   \n",
      "11   Divya  Female     No               0               0           False   \n",
      "12   Kabir    Male    Yes               1               1           False   \n",
      "13  Simran  Female    Yes               0               1            True   \n",
      "14   Karan    Male     No               1               0           False   \n",
      "15   Pooja  Female    Yes               0               1           False   \n",
      "16  Rakesh    Male    Yes               1               1           False   \n",
      "17    Isha  Female     No               0               0           False   \n",
      "18   Rohit    Male    Yes               1               1           False   \n",
      "19   Deepa  Female    Yes               0               1            True   \n",
      "\n",
      "    City_Chennai  City_Delhi  City_Mumbai  \n",
      "0          False        True        False  \n",
      "1          False       False         True  \n",
      "2          False       False        False  \n",
      "3          False       False         True  \n",
      "4          False        True        False  \n",
      "5           True       False        False  \n",
      "6          False       False        False  \n",
      "7          False        True        False  \n",
      "8           True       False        False  \n",
      "9          False       False         True  \n",
      "10          True       False        False  \n",
      "11         False        True        False  \n",
      "12         False       False         True  \n",
      "13         False       False        False  \n",
      "14         False        True        False  \n",
      "15         False       False         True  \n",
      "16          True       False        False  \n",
      "17         False        True        False  \n",
      "18         False        True        False  \n",
      "19         False       False        False  \n"
     ]
    }
   ],
   "source": [
    "\n",
    "# one hot encoding\n",
    "\n",
    "df_encoded = pd.get_dummies(df_label,columns=['City'])\n",
    "print(df_encoded)\n",
    "\n",
    "\n"
   ]
  },
  {
   "cell_type": "code",
   "execution_count": 34,
   "id": "38609e5c",
   "metadata": {},
   "outputs": [
    {
     "name": "stdout",
     "output_type": "stream",
     "text": [
      "(array([0, 0, 1, 0, 0, 0, 1, 0, 0, 0, 0, 0, 0, 1, 0, 0, 0, 0, 0, 1]), array([0, 0, 0, 0, 0, 1, 0, 0, 1, 0, 1, 0, 0, 0, 0, 0, 1, 0, 0, 0]))\n"
     ]
    }
   ],
   "source": [
    "df_encoded_o = (le.fit_transform(df_encoded['City_Bangalore']),\n",
    "                le.fit_transform(df_encoded['City_Chennai']))\n",
    "\n",
    "print(df_encoded_o)"
   ]
  },
  {
   "cell_type": "code",
   "execution_count": null,
   "id": "de84fc5a",
   "metadata": {},
   "outputs": [],
   "source": []
  },
  {
   "cell_type": "code",
   "execution_count": null,
   "id": "af4d34ec",
   "metadata": {},
   "outputs": [],
   "source": []
  }
 ],
 "metadata": {
  "kernelspec": {
   "display_name": "Python 3",
   "language": "python",
   "name": "python3"
  },
  "language_info": {
   "codemirror_mode": {
    "name": "ipython",
    "version": 3
   },
   "file_extension": ".py",
   "mimetype": "text/x-python",
   "name": "python",
   "nbconvert_exporter": "python",
   "pygments_lexer": "ipython3",
   "version": "3.12.3"
  }
 },
 "nbformat": 4,
 "nbformat_minor": 5
}
